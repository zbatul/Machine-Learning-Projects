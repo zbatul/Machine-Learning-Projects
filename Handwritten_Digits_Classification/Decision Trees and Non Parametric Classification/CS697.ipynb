{
 "cells": [
  {
   "cell_type": "markdown",
   "metadata": {},
   "source": [
    "# Assignment 3"
   ]
  },
  {
   "cell_type": "markdown",
   "metadata": {},
   "source": [
    "## About Data: \n",
    "\n",
    "Dataset from:  https://archive.ics.uci.edu/ml/machine-learning-databases/optdigits/ \n",
    "\n",
    "test set: optdigits.tes  \n",
    "training set: optdigits.tra \n",
    "\n",
    "Create the following training datasets from the optdigits.tra set: \n",
    "\n",
    "1. Dataset 1: X100_C69: Randomly chosen N=100 instances from class 6 and randomly chosen N=100 instances from class 9.  \n",
    "2. Dataset 2: X500_C69: similar to X100_C69, but for N=500.\n",
    "3. Dataset 3: X100_CAll : Randomly chosen N=100 instances from each of the classes.  \n",
    "4. Dataset 4: X500_CAll : similar to X500_C69, but for N=500. \n",
    "\n",
    "Note that when you use X100_C69 or X500_69 for training, for testing, you should only use the instances that belong to classes 6 and 9 in the test set optdigits.tes. "
   ]
  },
  {
   "cell_type": "code",
   "execution_count": 1,
   "metadata": {},
   "outputs": [],
   "source": [
    "# Import libraries\n",
    "import numpy as np\n",
    "import pandas as pd\n",
    "from sklearn.tree import DecisionTreeClassifier, DecisionTreeRegressor\n",
    "from sklearn.neighbors import KNeighborsClassifier\n",
    "from sklearn import metrics\n",
    "import matplotlib.pyplot as plt\n",
    "import io"
   ]
  },
  {
   "cell_type": "code",
   "execution_count": 2,
   "metadata": {},
   "outputs": [],
   "source": [
    "# Load data from required files\n",
    "def load_data(filename):\n",
    "    with open(filename, \"r\") as file:\n",
    "        data_string = file.read()\n",
    "    data = io.StringIO(data_string)\n",
    "    colnames = [i for i in range(1,66)]\n",
    "    df = pd.read_csv(data, index_col=False, names=colnames, sep=\",\")\n",
    "    return df"
   ]
  },
  {
   "cell_type": "code",
   "execution_count": 3,
   "metadata": {},
   "outputs": [],
   "source": [
    "# Create training datasets \n",
    "X = load_data(\"optdigits.tra\")\n",
    "X_C69 = X[X[65].isin([6,9])]\n",
    "X100_C69 = X_C69.groupby([65]).apply(lambda grp: grp.sample(n=100)).reset_index(drop=True)\n",
    "X100_CALL = X.groupby([65]).apply(lambda grp: grp.sample(n=100)).reset_index(drop=True)\n",
    "X500_C69 = X_C69.groupby([65]).apply(lambda grp: grp.sample(n=500, replace=True)).reset_index(drop=True)\n",
    "X500_CALL = X.groupby([65]).apply(lambda grp: grp.sample(n=500, replace=True)).reset_index(drop=True)"
   ]
  },
  {
   "cell_type": "code",
   "execution_count": 4,
   "metadata": {},
   "outputs": [],
   "source": [
    "# Create testing datasets\n",
    "test_df = load_data(\"optdigits.tes\")\n",
    "test_df_C69 = test_df[test_df[65].isin([6,9])]"
   ]
  },
  {
   "cell_type": "code",
   "execution_count": 5,
   "metadata": {},
   "outputs": [],
   "source": [
    "X_train1, y_train1 = X100_C69.loc[:, 1:64], X100_C69[65]\n",
    "X_test1, y_test1 = test_df_C69.loc[:, 1:64], test_df_C69[65]"
   ]
  },
  {
   "cell_type": "code",
   "execution_count": 6,
   "metadata": {},
   "outputs": [],
   "source": [
    "X_train2, y_train2 = X500_C69.loc[:, 1:64], X500_C69[65]\n",
    "X_test2, y_test2 = test_df_C69.loc[:, 1:64], test_df_C69[65]"
   ]
  },
  {
   "cell_type": "code",
   "execution_count": 7,
   "metadata": {},
   "outputs": [],
   "source": [
    "X_train3, y_train3 = X100_CALL.loc[:, 1:64], X100_CALL[65]\n",
    "X_test3, y_test3 = test_df.loc[:, 1:64], test_df[65]"
   ]
  },
  {
   "cell_type": "code",
   "execution_count": 8,
   "metadata": {},
   "outputs": [],
   "source": [
    "X_train4, y_train4 = X500_CALL.loc[:, 1:64], X500_CALL[65]\n",
    "X_test4, y_test4 = test_df.loc[:, 1:64], test_df[65]"
   ]
  },
  {
   "cell_type": "markdown",
   "metadata": {},
   "source": [
    "### Q1 [2.5pts]: Decision Trees, classification: Use sklearn.tree library’s DecisionTreeClassifier algorithm. For the DecisionTreeClassifier determine the value of the tree depth parameter (experiment with depth=2, 3, 5, 10) that results in the best test error for each of the 4 training data sets you created. How does the best depth value change as the number of instances and classes change? "
   ]
  },
  {
   "cell_type": "code",
   "execution_count": 9,
   "metadata": {},
   "outputs": [],
   "source": [
    "# Function to create decision tree classifier model, fit the model, predict the class and calculate error rate of the model\n",
    "# Returns list of error rates for models with depths 2, 3, 5, and 10\n",
    "def model_Decision_Tree_Classifier(X_train, y_train, X_test, y_test, data):\n",
    "    errors = []\n",
    "    for depth_val in [2,3,5,10]:\n",
    "        print(\"Depth value:\", depth_val)\n",
    "        dt_classifier = DecisionTreeClassifier(max_depth=depth_val)\n",
    "        dt_classifier = dt_classifier.fit(X_train, y_train)\n",
    "        y_pred = dt_classifier.predict(X_test)\n",
    "        errors.append(1 - metrics.accuracy_score(y_test, y_pred))\n",
    "        print(\"Error rate:\", errors[-1])\n",
    "#         plot_Decision_Tree(dt_classifier, depth_val, data)\n",
    "    return errors"
   ]
  },
  {
   "cell_type": "code",
   "execution_count": 10,
   "metadata": {},
   "outputs": [],
   "source": [
    "# def plot_Decision_Tree(dt_classifier, i, data):\n",
    "#     dot_data = export_graphviz(dt_classifier, feature_names=range(1,65), out_file=None,\n",
    "#                            filled=True, rounded=True, special_characters=True)\n",
    "#     graph = pydotplus.graph_from_dot_data(dot_data)\n",
    "#     nodes = graph.get_node_list()\n",
    "#     graph.write_png('decision_tree_' + str(data) + '_depth' + str(i) + '.png')\n",
    "#     image = Image(graph.create_png())\n",
    "#     display(image)"
   ]
  },
  {
   "cell_type": "markdown",
   "metadata": {},
   "source": [
    "#### Dataset 1: X100_C69: Randomly chosen N=100 instances from class 6 and randomly chosen N=100 instances from class 9."
   ]
  },
  {
   "cell_type": "code",
   "execution_count": 11,
   "metadata": {},
   "outputs": [
    {
     "name": "stdout",
     "output_type": "stream",
     "text": [
      "Depth value: 2\n",
      "Error rate: 0.011080332409972304\n",
      "Depth value: 3\n",
      "Error rate: 0.011080332409972304\n",
      "Depth value: 5\n",
      "Error rate: 0.011080332409972304\n",
      "Depth value: 10\n",
      "Error rate: 0.011080332409972304\n"
     ]
    }
   ],
   "source": [
    "errors1 = model_Decision_Tree_Classifier(X_train1, y_train1, X_test1, y_test1, 'dataset1')"
   ]
  },
  {
   "cell_type": "markdown",
   "metadata": {},
   "source": [
    "#### Dataset 2: X500_C69: similar to X100_C69, but for N=500."
   ]
  },
  {
   "cell_type": "code",
   "execution_count": 12,
   "metadata": {},
   "outputs": [
    {
     "name": "stdout",
     "output_type": "stream",
     "text": [
      "Depth value: 2\n",
      "Error rate: 0.008310249307479256\n",
      "Depth value: 3\n",
      "Error rate: 0.008310249307479256\n",
      "Depth value: 5\n",
      "Error rate: 0.008310249307479256\n",
      "Depth value: 10\n",
      "Error rate: 0.008310249307479256\n"
     ]
    }
   ],
   "source": [
    "errors2 = model_Decision_Tree_Classifier(X_train2, y_train2, X_test2, y_test2, 'dataset2')"
   ]
  },
  {
   "cell_type": "markdown",
   "metadata": {},
   "source": [
    "#### Dataset 3: X100_CAll : Randomly chosen N=100 instances from each of the classes."
   ]
  },
  {
   "cell_type": "code",
   "execution_count": 13,
   "metadata": {},
   "outputs": [
    {
     "name": "stdout",
     "output_type": "stream",
     "text": [
      "Depth value: 2\n",
      "Error rate: 0.7384529771841959\n",
      "Depth value: 3\n",
      "Error rate: 0.5998887033945465\n",
      "Depth value: 5\n",
      "Error rate: 0.32276015581524764\n",
      "Depth value: 10\n",
      "Error rate: 0.19254312743461321\n"
     ]
    }
   ],
   "source": [
    "errors3 = model_Decision_Tree_Classifier(X_train3, y_train3, X_test3, y_test3, 'dataset3')"
   ]
  },
  {
   "cell_type": "markdown",
   "metadata": {},
   "source": [
    "#### Dataset 4: X500_CAll : similar to X500_C69, but for N=500."
   ]
  },
  {
   "cell_type": "code",
   "execution_count": 14,
   "metadata": {},
   "outputs": [
    {
     "name": "stdout",
     "output_type": "stream",
     "text": [
      "Depth value: 2\n",
      "Error rate: 0.7033945464663327\n",
      "Depth value: 3\n",
      "Error rate: 0.6199220923761826\n",
      "Depth value: 5\n",
      "Error rate: 0.31775180856983865\n",
      "Depth value: 10\n",
      "Error rate: 0.14802448525319978\n"
     ]
    }
   ],
   "source": [
    "errors4 = model_Decision_Tree_Classifier(X_train4, y_train4, X_test4, y_test4, 'dataset4')"
   ]
  },
  {
   "cell_type": "markdown",
   "metadata": {},
   "source": [
    "#### Plot error rate for each model for each dataset"
   ]
  },
  {
   "cell_type": "code",
   "execution_count": 15,
   "metadata": {
    "scrolled": true
   },
   "outputs": [
    {
     "data": {
      "text/plain": [
       "<matplotlib.legend.Legend at 0x1cb129e8>"
      ]
     },
     "execution_count": 15,
     "metadata": {},
     "output_type": "execute_result"
    },
    {
     "data": {
      "image/png": "[encoded data removed]",
      "text/plain": [
       "<Figure size 432x288 with 1 Axes>"
      ]
     },
     "metadata": {
      "needs_background": "light"
     },
     "output_type": "display_data"
    }
   ],
   "source": [
    "depths = [2,3,5,10]\n",
    "plt.plot(depths, errors1, label = 'dataset 1: X100_C69', marker='o', markerfacecolor='red', markersize=12, color='red', linewidth=4)\n",
    "plt.plot(depths, errors2, label = 'dataset 2: X100_CALL', marker='o', markerfacecolor='yellow', markersize=12, color='yellow', linewidth=4)\n",
    "plt.plot(depths, errors3, label = 'dataset 3: X500_C69', marker='o', markerfacecolor='green', markersize=12, color='green', linewidth=4)\n",
    "plt.plot(depths, errors4, label = 'dataset 4: X500_CALL', marker='o', markerfacecolor='blue', markersize=12, color='blue', linewidth=4)\n",
    "plt.xlabel('Depth')\n",
    "plt.ylabel('Error rate')\n",
    "plt.title('Decision Tree Classification Model')\n",
    "plt.legend()"
   ]
  },
  {
   "cell_type": "markdown",
   "metadata": {},
   "source": [
    "### Q2 [2.5pts]: Nonparametric Classification: Use sklearn.tree library’s KneighborsClassifier algorithm. For the KneighborsClassifier determine the value of the best k parameter (experiment with k=1, 3, 5, 9) that results in the best test error for each of the 4 training data sets you created. How does the best k value change as the number of instances and classes change?  "
   ]
  },
  {
   "cell_type": "code",
   "execution_count": 16,
   "metadata": {},
   "outputs": [],
   "source": [
    "# Function to create kNN model, fit the model, predict the class and calculate error rate of the model\n",
    "# Returns list of error rates for models with number of neighbours 1, 3, 5, and 9\n",
    "def model_KNN(X_train, y_train, X_test, y_test):\n",
    "    errors = []\n",
    "    for neighbour_vals in [1,3,5,9]:\n",
    "        print(\"Number of neighbours:\", neighbour_vals)\n",
    "        knn_classifier = KNeighborsClassifier(n_neighbors=neighbour_vals)\n",
    "        knn_classifier = knn_classifier.fit(X_train, y_train)\n",
    "        y_pred = knn_classifier.predict(X_test)\n",
    "        errors.append(1 - metrics.accuracy_score(y_test, y_pred))\n",
    "        print(\"Error rate:\", errors[-1])\n",
    "    return errors"
   ]
  },
  {
   "cell_type": "markdown",
   "metadata": {},
   "source": [
    "#### Dataset 1: X100_C69: Randomly chosen N=100 instances from class 6 and randomly chosen N=100 instances from class 9."
   ]
  },
  {
   "cell_type": "code",
   "execution_count": 17,
   "metadata": {},
   "outputs": [
    {
     "name": "stdout",
     "output_type": "stream",
     "text": [
      "Number of neighbours: 1\n",
      "Error rate: 0.0\n",
      "Number of neighbours: 3\n",
      "Error rate: 0.0\n",
      "Number of neighbours: 5\n",
      "Error rate: 0.0\n",
      "Number of neighbours: 9\n",
      "Error rate: 0.0\n"
     ]
    }
   ],
   "source": [
    "knn_errors1 = model_KNN(X_train1, y_train1, X_test1, y_test1)"
   ]
  },
  {
   "cell_type": "markdown",
   "metadata": {},
   "source": [
    "#### Dataset 2: X500_C69: similar to X100_C69, but for N=500."
   ]
  },
  {
   "cell_type": "code",
   "execution_count": 18,
   "metadata": {},
   "outputs": [
    {
     "name": "stdout",
     "output_type": "stream",
     "text": [
      "Number of neighbours: 1\n",
      "Error rate: 0.0\n",
      "Number of neighbours: 3\n",
      "Error rate: 0.0\n",
      "Number of neighbours: 5\n",
      "Error rate: 0.0\n",
      "Number of neighbours: 9\n",
      "Error rate: 0.0\n"
     ]
    }
   ],
   "source": [
    "knn_errors2 = model_KNN(X_train2, y_train2, X_test2, y_test2)"
   ]
  },
  {
   "cell_type": "markdown",
   "metadata": {},
   "source": [
    "#### Dataset 3: X100_CAll : Randomly chosen N=100 instances from each of the classes."
   ]
  },
  {
   "cell_type": "code",
   "execution_count": 19,
   "metadata": {},
   "outputs": [
    {
     "name": "stdout",
     "output_type": "stream",
     "text": [
      "Number of neighbours: 1\n",
      "Error rate: 0.03005008347245408\n",
      "Number of neighbours: 3\n",
      "Error rate: 0.03394546466332782\n",
      "Number of neighbours: 5\n",
      "Error rate: 0.036727879799666074\n",
      "Number of neighbours: 9\n",
      "Error rate: 0.036727879799666074\n"
     ]
    }
   ],
   "source": [
    "knn_errors3 = model_KNN(X_train3, y_train3, X_test3, y_test3)"
   ]
  },
  {
   "cell_type": "markdown",
   "metadata": {},
   "source": [
    "#### Dataset 4: X500_CAll : similar to X500_C69, but for N=500."
   ]
  },
  {
   "cell_type": "code",
   "execution_count": 20,
   "metadata": {},
   "outputs": [
    {
     "name": "stdout",
     "output_type": "stream",
     "text": [
      "Number of neighbours: 1\n",
      "Error rate: 0.01947690595436835\n",
      "Number of neighbours: 3\n",
      "Error rate: 0.023928770172509717\n",
      "Number of neighbours: 5\n",
      "Error rate: 0.023372287145242088\n",
      "Number of neighbours: 9\n",
      "Error rate: 0.024485253199777457\n"
     ]
    }
   ],
   "source": [
    "knn_errors4 = model_KNN(X_train4, y_train4, X_test4, y_test4)"
   ]
  },
  {
   "cell_type": "markdown",
   "metadata": {},
   "source": [
    "#### Plot error rate for each model for each dataset"
   ]
  },
  {
   "cell_type": "code",
   "execution_count": 21,
   "metadata": {},
   "outputs": [
    {
     "data": {
      "text/plain": [
       "<matplotlib.legend.Legend at 0x5cb1bf8>"
      ]
     },
     "execution_count": 21,
     "metadata": {},
     "output_type": "execute_result"
    },
    {
     "data": {
      "image/png": "[encoded data removed]",
      "text/plain": [
       "<Figure size 432x288 with 1 Axes>"
      ]
     },
     "metadata": {
      "needs_background": "light"
     },
     "output_type": "display_data"
    }
   ],
   "source": [
    "neighbours = [1,3,5,9]\n",
    "plt.plot(neighbours, knn_errors1, label = 'dataset 1: X100_C69', marker='o', markerfacecolor='red', markersize=12, color='red', linewidth=4)\n",
    "plt.plot(neighbours, knn_errors2, label = 'dataset 2: X100_CALL', marker='o', markerfacecolor='yellow', markersize=12, color='yellow', linewidth=4)\n",
    "plt.plot(neighbours, knn_errors3, label = 'dataset 3: X500_C69', marker='o', markerfacecolor='green', markersize=12, color='green', linewidth=4)\n",
    "plt.plot(neighbours, knn_errors4, label = 'dataset 4: X500_CALL', marker='o', markerfacecolor='blue', markersize=12, color='blue', linewidth=4)\n",
    "plt.xlabel('Number of Neighbours')\n",
    "plt.ylabel('Error rate')\n",
    "plt.title('k-Nearest Neighbours Model')\n",
    "plt.legend()"
   ]
  },
  {
   "cell_type": "markdown",
   "metadata": {},
   "source": [
    "### Q3 [2.5pts]: Decision Trees, regression for digit completion: Using only the data in X500_69 for training, use the first 48 features as inputs and predict the next 16 features, i.e. create 16 decision tree regression models, using the sklearn library. Report the test error (use only the instances from classes 6 and 9) for each of the 16 regression models. Which pixels are easier to predict?\n",
    "(Clarification, each of your models will have the same set of features, namely features 1…48.)"
   ]
  },
  {
   "cell_type": "code",
   "execution_count": 22,
   "metadata": {},
   "outputs": [],
   "source": [
    "# Function to create decision tree regressor model, fit the model, predict the 16 features and calculate error rate of the model\n",
    "# Returns list of error rates for each of the 16 features\n",
    "def model_Decision_Tree_Regressor(X_train, y_train, X_test, y_test):\n",
    "    test_error = {}\n",
    "    dt_regressor = DecisionTreeRegressor(random_state=0)\n",
    "    for col in y_train.columns:\n",
    "        print(\"Column\", col)\n",
    "        dt_regressor = dt_regressor.fit(X_train, y_train[col])\n",
    "        y_pred = dt_regressor.predict(X_test)\n",
    "        test_error[col] = 1 - metrics.accuracy_score(y_test[col], y_pred)\n",
    "        print(\"Test error rate:\", test_error[col])\n",
    "#         plot_Decision_Tree_Regressor(dt_regressor, col)\n",
    "    return test_error"
   ]
  },
  {
   "cell_type": "code",
   "execution_count": 23,
   "metadata": {},
   "outputs": [],
   "source": [
    "# def plot_Decision_Tree_Regressor(dt_regressor, col):\n",
    "#     dot_data = export_graphviz(dt_regressor, feature_names=range(1,49), out_file=None,\n",
    "#                            filled=True, rounded=True, special_characters=True)\n",
    "#     graph = pydotplus.graph_from_dot_data(dot_data)\n",
    "#     nodes = graph.get_node_list()\n",
    "#     graph.write_png('decision_tree_regressor_column' + str(col) + '.png')\n",
    "#     image = Image(graph.create_png())\n",
    "#     display(image)"
   ]
  },
  {
   "cell_type": "code",
   "execution_count": 24,
   "metadata": {},
   "outputs": [],
   "source": [
    "X_train, y_train = X500_C69.loc[:, 1:48], X500_C69.loc[:, 49:64]\n",
    "X_test, y_test = test_df_C69.loc[:, 1:48], test_df_C69.loc[:, 49:64]"
   ]
  },
  {
   "cell_type": "code",
   "execution_count": 25,
   "metadata": {},
   "outputs": [
    {
     "name": "stdout",
     "output_type": "stream",
     "text": [
      "Column 49\n",
      "Test error rate: 0.0\n",
      "Column 50\n",
      "Test error rate: 0.2936288088642659\n",
      "Column 51\n",
      "Test error rate: 0.8199445983379501\n",
      "Column 52\n",
      "Test error rate: 0.8227146814404432\n",
      "Column 53\n",
      "Test error rate: 0.8808864265927978\n",
      "Column 54\n",
      "Test error rate: 0.8393351800554016\n",
      "Column 55\n",
      "Test error rate: 0.7340720221606648\n",
      "Column 56\n",
      "Test error rate: 0.1634349030470914\n",
      "Column 57\n",
      "Test error rate: 0.0\n",
      "Column 58\n",
      "Test error rate: 0.06925207756232687\n",
      "Column 59\n",
      "Test error rate: 0.6675900277008311\n",
      "Column 60\n",
      "Test error rate: 0.8254847645429363\n",
      "Column 61\n",
      "Test error rate: 0.6952908587257618\n",
      "Column 62\n",
      "Test error rate: 0.850415512465374\n",
      "Column 63\n",
      "Test error rate: 0.7119113573407202\n",
      "Column 64\n",
      "Test error rate: 0.1246537396121884\n"
     ]
    }
   ],
   "source": [
    "test_err = model_Decision_Tree_Regressor(X_train, y_train, X_test, y_test)"
   ]
  },
  {
   "cell_type": "markdown",
   "metadata": {},
   "source": [
    "#### The 16 columns in the order of their increasing error rates or in the order of ease of prediction are as follows: "
   ]
  },
  {
   "cell_type": "code",
   "execution_count": 26,
   "metadata": {},
   "outputs": [
    {
     "data": {
      "text/plain": [
       "{49: 0.0,\n",
       " 57: 0.0,\n",
       " 58: 0.06925207756232687,\n",
       " 64: 0.1246537396121884,\n",
       " 56: 0.1634349030470914,\n",
       " 50: 0.2936288088642659,\n",
       " 59: 0.6675900277008311,\n",
       " 61: 0.6952908587257618,\n",
       " 63: 0.7119113573407202,\n",
       " 55: 0.7340720221606648,\n",
       " 51: 0.8199445983379501,\n",
       " 52: 0.8227146814404432,\n",
       " 60: 0.8254847645429363,\n",
       " 54: 0.8393351800554016,\n",
       " 62: 0.850415512465374,\n",
       " 53: 0.8808864265927978}"
      ]
     },
     "execution_count": 26,
     "metadata": {},
     "output_type": "execute_result"
    }
   ],
   "source": [
    "{k: v for k, v in sorted(test_err.items(), key=lambda item: item[1])}"
   ]
  },
  {
   "cell_type": "markdown",
   "metadata": {},
   "source": [
    "#### Plot error rate for each of the 16 columns"
   ]
  },
  {
   "cell_type": "code",
   "execution_count": 27,
   "metadata": {},
   "outputs": [
    {
     "data": {
      "text/plain": [
       "<matplotlib.legend.Legend at 0x1cce6d30>"
      ]
     },
     "execution_count": 27,
     "metadata": {},
     "output_type": "execute_result"
    },
    {
     "data": {
      "image/png": "[encoded data removed]",
      "text/plain": [
       "<Figure size 432x288 with 1 Axes>"
      ]
     },
     "metadata": {
      "needs_background": "light"
     },
     "output_type": "display_data"
    }
   ],
   "source": [
    "plt.plot(list(test_err.keys()), list(test_err.values()), label = 'dataset: X500_C69', marker='o', markerfacecolor='red', markersize=12, color='blue', linewidth=2)\n",
    "plt.xlabel('Column Number')\n",
    "plt.ylabel('Error rate')\n",
    "plt.title('Decision Tree Regression Model')\n",
    "plt.legend()"
   ]
  }
 ],
 "metadata": {
  "kernelspec": {
   "display_name": "Python 3",
   "language": "python",
   "name": "python3"
  },
  "language_info": {
   "codemirror_mode": {
    "name": "ipython",
    "version": 3
   },
   "file_extension": ".py",
   "mimetype": "text/x-python",
   "name": "python",
   "nbconvert_exporter": "python",
   "pygments_lexer": "ipython3",
   "version": "3.8.1"
  }
 },
 "nbformat": 4,
 "nbformat_minor": 4
}
