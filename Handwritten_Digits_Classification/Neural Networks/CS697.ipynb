{
 "cells": [
  {
   "cell_type": "markdown",
   "metadata": {},
   "source": [
    "# Assignment 4"
   ]
  },
  {
   "cell_type": "markdown",
   "metadata": {},
   "source": [
    "## Purpose:\n",
    "1) To understand how linear discrimination and neural networks work.\n",
    "2) To understand AdaBoost algorithm and classifier diversity"
   ]
  },
  {
   "cell_type": "markdown",
   "metadata": {},
   "source": [
    "## About Data:\n",
    "Dataset from: https://archive.ics.uci.edu/ml/machine-learning-databases/optdigits/\n",
    "\n",
    "test set: optdigits.tes\n",
    "training set: optdigits.tra\n",
    "\n",
    "NOTE: For this homework, use only classes 6 and 9. Delete all the other classes from the original training and test datasets. Rename class 6 as “0” and class 9 as “1” so that your algorithms work."
   ]
  },
  {
   "cell_type": "code",
   "execution_count": 1,
   "metadata": {},
   "outputs": [],
   "source": [
    "# Import libraries\n",
    "import numpy as np\n",
    "import pandas as pd\n",
    "from sklearn.preprocessing import StandardScaler\n",
    "from sklearn.svm import LinearSVC\n",
    "from sklearn.feature_selection import SelectFromModel\n",
    "from sklearn.neural_network import MLPClassifier\n",
    "from sklearn import metrics\n",
    "import matplotlib.pyplot as plt\n",
    "import io\n",
    "from math import exp"
   ]
  },
  {
   "cell_type": "code",
   "execution_count": 2,
   "metadata": {},
   "outputs": [],
   "source": [
    "# Load data from required files\n",
    "def load_data(filename):\n",
    "    with open(filename, \"r\") as file:\n",
    "        data_string = file.read()\n",
    "    data = io.StringIO(data_string)\n",
    "    colnames = [i for i in range(1,66)]\n",
    "    df = pd.read_csv(data, index_col=False, names=colnames, sep=\",\")\n",
    "    return df"
   ]
  },
  {
   "cell_type": "code",
   "execution_count": 3,
   "metadata": {},
   "outputs": [],
   "source": [
    "# Create training datasets \n",
    "train_df = load_data(\"optdigits.tra\")\n",
    "train_df = train_df[train_df[65].isin([6,9])]\n",
    "train_df[65] = train_df[65].map({6:0,9:1})"
   ]
  },
  {
   "cell_type": "code",
   "execution_count": 4,
   "metadata": {},
   "outputs": [],
   "source": [
    "# Create testing datasets\n",
    "test_df = load_data(\"optdigits.tes\")\n",
    "test_df = test_df[test_df[65].isin([6,9])]\n",
    "test_df[65] = test_df[65].map({6:0,9:1})"
   ]
  },
  {
   "cell_type": "markdown",
   "metadata": {},
   "source": [
    "### Q1 [6pts]: Implement the logistic regression (i.e. 1 layer neural network with a single sigmoidal output) algorithm yourself in Python, use adaptive learning rate and momentum for training. Train and test 10 times, each time, start from different random initial weights and use a random subset of 80% of the training data and also start with a different initial learning rate (e.g. 0.0001, 0.005, 0.001, 0.01 etc.) and momentum (0.9, 0.95, 0.99). Report the total training and test errors for each of the 10 runs. Report also the initial learning rate and the momentum you used. "
   ]
  },
  {
   "cell_type": "code",
   "execution_count": 5,
   "metadata": {},
   "outputs": [],
   "source": [
    "# Function to return sigmoid of the scores\n",
    "def sigmoid(scores):\n",
    "    return 1 / (1 + np.exp(-scores))"
   ]
  },
  {
   "cell_type": "code",
   "execution_count": 6,
   "metadata": {},
   "outputs": [],
   "source": [
    "# Function to create training set (80% data) and validation set (20% data)\n",
    "def create_train_validation_data(train_df):\n",
    "    train_set = train_df.sample(frac=0.8)\n",
    "    validation_set = train_df.loc[~train_df.index.isin(train_set.index)]\n",
    "    return train_set.loc[:,1:64], train_set[65], validation_set.loc[:,1:64], validation_set[65]"
   ]
  },
  {
   "cell_type": "code",
   "execution_count": 7,
   "metadata": {},
   "outputs": [],
   "source": [
    "# Function to calculate mean squared error\n",
    "def mean_squared_error(y_pred, y_actual):\n",
    "    return np.square(np.subtract(y_actual, y_pred)).mean() "
   ]
  },
  {
   "cell_type": "code",
   "execution_count": 8,
   "metadata": {},
   "outputs": [],
   "source": [
    "# Function to calculate error\n",
    "def error(y_pred, y_actual):\n",
    "    return 1 - (y_pred == y_actual).sum().astype(float) / len(y_actual)"
   ]
  },
  {
   "cell_type": "code",
   "execution_count": 9,
   "metadata": {},
   "outputs": [],
   "source": [
    "# Function to plot number of epochs v/s training/validation error to find epochs required for the model to converge\n",
    "def plot_epoch_vs_error(epochs, train_error_list, validation_error_list):\n",
    "    epoch_list = list(range(1, epochs+1))\n",
    "    p1, = plt.plot(epoch_list, train_error_list, marker='o', markerfacecolor='r', markersize=6, color='r', linewidth=2)\n",
    "    p2, = plt.plot(epoch_list, validation_error_list, marker='o', markerfacecolor='b', markersize=4, color='b', linewidth=1)\n",
    "    plt.xlabel('Number of epochs')\n",
    "    plt.ylabel('Mean Squared Error')\n",
    "    plt.title('Epochs v/s Mean Squared Error')\n",
    "    plt.legend([p1,p2], [\"train-error\", \"validation-error\"])"
   ]
  },
  {
   "cell_type": "code",
   "execution_count": 10,
   "metadata": {},
   "outputs": [],
   "source": [
    "# Function to create logistic regression model \n",
    "# uses 80% of the training data and uses 20% for validation\n",
    "# initializes weights to random values for each feature each time\n",
    "# uses learning rate and momentum for faster convergence\n",
    "\n",
    "def logistic_regression(train_df, epochs, learning_rate, momentum, plot_error=False):\n",
    "    \n",
    "    # create training set (80% data) and validation set (20% data)\n",
    "    train_features, train_target, validation_features, validation_target = create_train_validation_data(train_df)\n",
    "    \n",
    "    # initialize weights randomly\n",
    "    weights = np.random.uniform(low=-0.01, high=0.01, size=train_features.shape[1])\n",
    "    \n",
    "    train_error_list, validation_error_list = [], []\n",
    "    # parameters to update learning rate\n",
    "    a = 0.00001\n",
    "    b = 0.01\n",
    "    \n",
    "    # Run epochs and use gradient descent algorithm to converge \n",
    "    for step in range(1, epochs+1):\n",
    "        \n",
    "        scores = np.dot(train_features, weights)\n",
    "        predictions = sigmoid(scores)\n",
    "        \n",
    "        # calculate train error\n",
    "        train_predictions = np.round(predictions)\n",
    "        train_error = mean_squared_error(train_predictions, train_target)\n",
    "        train_error_list.append(train_error)\n",
    "        if(step == 1):\n",
    "            prev_train_error = train_error\n",
    "        \n",
    "        # calculate validation error\n",
    "        validation_pred = np.round(sigmoid(np.dot(validation_features, weights)))\n",
    "        validation_error = mean_squared_error(validation_pred, validation_target)\n",
    "        validation_error_list.append(validation_error)\n",
    "        \n",
    "        #update learning rate\n",
    "        if(step%10 == 0):    \n",
    "            if(prev_train_error < train_error):\n",
    "                learning_rate += a\n",
    "            else:\n",
    "                learning_rate -= b*learning_rate\n",
    "            prev_train_error = train_error\n",
    "            \n",
    "        # Update weights with gradient\n",
    "        train_error_signal = train_target - predictions\n",
    "        gradient = np.dot(train_features.T, train_error_signal)\n",
    "        weights = momentum * weights + learning_rate * gradient\n",
    "\n",
    "    # plot number of epochs v/s training and validation errors\n",
    "    if plot_error == True:\n",
    "        plot_epoch_vs_error(epochs, train_error_list, validation_error_list)\n",
    "    \n",
    "    return weights, train_features, train_target, validation_features, validation_target"
   ]
  },
  {
   "cell_type": "markdown",
   "metadata": {},
   "source": [
    "### Investigate number of epochs required"
   ]
  },
  {
   "cell_type": "markdown",
   "metadata": {},
   "source": [
    "#### Case 1: 10 epochs"
   ]
  },
  {
   "cell_type": "code",
   "execution_count": 11,
   "metadata": {
    "scrolled": true
   },
   "outputs": [
    {
     "data": {
      "image/png": "[encoded data removed]",
      "text/plain": [
       "<Figure size 432x288 with 1 Axes>"
      ]
     },
     "metadata": {
      "needs_background": "light"
     },
     "output_type": "display_data"
    }
   ],
   "source": [
    "for num_run in range(10):\n",
    "    weights, train_X, train_y, val_X, val_y = logistic_regression(train_df, 10, 0.0001, momentum=0.95, plot_error=True)"
   ]
  },
  {
   "cell_type": "markdown",
   "metadata": {},
   "source": [
    "#### Case 2: 50 epochs"
   ]
  },
  {
   "cell_type": "code",
   "execution_count": 12,
   "metadata": {
    "scrolled": true
   },
   "outputs": [
    {
     "data": {
      "image/png": "[encoded data removed]",
      "text/plain": [
       "<Figure size 432x288 with 1 Axes>"
      ]
     },
     "metadata": {
      "needs_background": "light"
     },
     "output_type": "display_data"
    }
   ],
   "source": [
    "for num_run in range(10):\n",
    "    weights, train_X, train_y, val_X, val_y = logistic_regression(train_df, 50, 0.0001, momentum=0.95, plot_error=True)"
   ]
  },
  {
   "cell_type": "markdown",
   "metadata": {},
   "source": [
    "#### Case 3: 100 epochs"
   ]
  },
  {
   "cell_type": "code",
   "execution_count": 13,
   "metadata": {},
   "outputs": [
    {
     "data": {
      "image/png": "[encoded data removed]",
      "text/plain": [
       "<Figure size 432x288 with 1 Axes>"
      ]
     },
     "metadata": {
      "needs_background": "light"
     },
     "output_type": "display_data"
    }
   ],
   "source": [
    "for num_run in range(10):\n",
    "    weights, train_X, train_y, val_X, val_y = logistic_regression(train_df, 100, 0.0001, momentum=0.95, plot_error=True)"
   ]
  },
  {
   "cell_type": "markdown",
   "metadata": {},
   "source": [
    "For all 10 runs in each case above, we observe that after 30 epochs, we have reached a global minima, hence for our model we run 30 epochs "
   ]
  },
  {
   "cell_type": "markdown",
   "metadata": {},
   "source": [
    " ### Initial Learning rate = 0.0001, Momentum = 0.95 and Number of epochs = 30"
   ]
  },
  {
   "cell_type": "code",
   "execution_count": 14,
   "metadata": {},
   "outputs": [
    {
     "name": "stdout",
     "output_type": "stream",
     "text": [
      "   Run Number  Train Error  Validation Error  Test Error\n",
      "0         1.0          0.0               0.0     0.00277\n",
      "1         2.0          0.0               0.0     0.00000\n",
      "2         3.0          0.0               0.0     0.00000\n",
      "3         4.0          0.0               0.0     0.00000\n",
      "4         5.0          0.0               0.0     0.00000\n",
      "5         6.0          0.0               0.0     0.00000\n",
      "6         7.0          0.0               0.0     0.00000\n",
      "7         8.0          0.0               0.0     0.00000\n",
      "8         9.0          0.0               0.0     0.00000\n",
      "9        10.0          0.0               0.0     0.00000\n"
     ]
    }
   ],
   "source": [
    "run_df = pd.DataFrame(columns = [\"Run Number\", \"Train Error\", \"Validation Error\", \"Test Error\"])\n",
    "ten_runs_test_error = []\n",
    "ten_runs_weights = []\n",
    "for num_run in range(10): \n",
    "    weights, train_X, train_y, val_X, val_y = logistic_regression(train_df, epochs=30, learning_rate=0.0001, momentum=0.95)\n",
    "    ten_runs_weights.append(weights)\n",
    "    \n",
    "    # calculate training error\n",
    "    train_pred = np.round(sigmoid(np.dot(train_X, weights)))\n",
    "    train_error = error(train_pred, train_y)\n",
    "    \n",
    "    #calculate validation error\n",
    "    validation_pred = np.round(sigmoid(np.dot(val_X, weights)))\n",
    "    validation_error = error(validation_pred, val_y)\n",
    "    \n",
    "    #calculate test error\n",
    "    test_pred = np.round(sigmoid(np.dot(test_df.loc[:,1:64], weights)))\n",
    "    test_error = error(test_pred, test_df[65])\n",
    "    ten_runs_test_error.append(test_error)\n",
    "    \n",
    "    run_df.loc[num_run] = [num_run + 1, train_error, validation_error, test_error]\n",
    "print(run_df)"
   ]
  },
  {
   "cell_type": "markdown",
   "metadata": {},
   "source": [
    "### Q2 [2.5pts]: Using the 10 runs in Q1, for each feature compute feature importance as a) Fa: the average (over 10 runs) increase in the test error when the weight for that feature is set to 0. For each feature, compute also, b) Fb: the variance of each feature on the test set and c) Fc: the mutual information between the feature column and the label column. Plot x=Fa and y=Fb, Fc. Comment on how your feature importance Fa the other measurements Fb and Fc are related."
   ]
  },
  {
   "cell_type": "code",
   "execution_count": 15,
   "metadata": {},
   "outputs": [],
   "source": [
    "# Function to compute Fa, Fb and Fc\n",
    "# Fa: the average (over 10 runs) increase in the test error when the weight for that feature is set to 0\n",
    "# Fb: the variance of each feature on the test set\n",
    "# Fc: the mutual information between the feature column and the label column\n",
    "\n",
    "def compute_fa_fb_fc(ten_runs_test_error, ten_runs_weights):\n",
    "    avg_test_error = np.mean(ten_runs_test_error)\n",
    "    new_ten_runs_test_error = []\n",
    "    Fa, Fb, Fc = [], [], []\n",
    "    for feature in list(train_df.columns)[:-1]:\n",
    "        for i in range(10):\n",
    "            ten_runs_weights[i][feature-1] = 0\n",
    "            test_pred = np.round(sigmoid(np.dot(test_df.loc[:,1:64], ten_runs_weights[i])))\n",
    "            test_error = error(test_pred, test_df[65])\n",
    "            new_ten_runs_test_error.append(test_error)\n",
    "        avg_test_error_new = np.mean(new_ten_runs_test_error)\n",
    "        Fa.append(avg_test_error_new - avg_test_error)\n",
    "        Fb.append(np.std(test_df[feature])**2)\n",
    "        Fc.append(metrics.mutual_info_score(test_df[feature], test_df[65]))\n",
    "    return Fa, Fb, Fc"
   ]
  },
  {
   "cell_type": "code",
   "execution_count": 16,
   "metadata": {},
   "outputs": [],
   "source": [
    "Fa, Fb, Fc = compute_fa_fb_fc(ten_runs_test_error, ten_runs_weights)"
   ]
  },
  {
   "cell_type": "code",
   "execution_count": 17,
   "metadata": {
    "scrolled": true
   },
   "outputs": [
    {
     "data": {
      "text/plain": [
       "<matplotlib.legend.Legend at 0x1de2a9d0>"
      ]
     },
     "execution_count": 17,
     "metadata": {},
     "output_type": "execute_result"
    },
    {
     "data": {
      "image/png": "[encoded data removed]",
      "text/plain": [
       "<Figure size 432x288 with 1 Axes>"
      ]
     },
     "metadata": {
      "needs_background": "light"
     },
     "output_type": "display_data"
    }
   ],
   "source": [
    "plt.plot(Fa, Fb, label = 'Fb', marker='o', markerfacecolor='r', markersize=6, color='r', linewidth=2)\n",
    "plt.plot(Fa, Fc, label = 'Fc', marker='o', markerfacecolor='b', markersize=6, color='b', linewidth=1)\n",
    "plt.xlabel('Fa')\n",
    "plt.ylabel('[Fb, Fc]')\n",
    "plt.title('Relationship between Fa, Fb and Fc')\n",
    "plt.legend()"
   ]
  },
  {
   "cell_type": "code",
   "execution_count": 18,
   "metadata": {
    "scrolled": true
   },
   "outputs": [
    {
     "data": {
      "text/plain": [
       "Text(0.5, 1.0, 'Relationship between Fa, Fc')"
      ]
     },
     "execution_count": 18,
     "metadata": {},
     "output_type": "execute_result"
    },
    {
     "data": {
      "image/png": "[encoded data removed]",
      "text/plain": [
       "<Figure size 432x288 with 1 Axes>"
      ]
     },
     "metadata": {
      "needs_background": "light"
     },
     "output_type": "display_data"
    }
   ],
   "source": [
    "plt.plot(Fa, Fc, marker='o', markerfacecolor='b', markersize=6, color='b', linewidth=2)\n",
    "plt.xlabel('Fa')\n",
    "plt.ylabel('Fc')\n",
    "plt.title('Relationship between Fa, Fc')"
   ]
  },
  {
   "cell_type": "markdown",
   "metadata": {},
   "source": [
    "We observe that relationship between Fa and Fb, i.e variance of the features does not tell much but just that a lot of features do not contribute much to predict the target because the increase in test error is very low (around 0.0).That is on x-axis, we see a lot of features near Fa=~0.0"
   ]
  },
  {
   "cell_type": "markdown",
   "metadata": {},
   "source": [
    "We also observe that Fc is almost a straight line wrt Fa. However by looking closely, we find that it is not a straight line but has small peaks. Fc varies in the range of about 0 to 0.7 when plotted against Fa. It means that the average increase in the test error by putting 0 weight for some features, and the mutual information between features and target is very high for some features while for others it is very low, i.e. they are not important to predict the target."
   ]
  },
  {
   "cell_type": "markdown",
   "metadata": {},
   "source": [
    "### Q3 [4pts]: Use the scikit-learn neural network implementation to train a neural network and test it using the same instances as in Q1. Decrease the test error as much as you can through selection of: 1) different number of hidden layers and units, 2) L1 or L2 regularization/weight decay, 3) different optimization algorithms, 4) feature selection"
   ]
  },
  {
   "cell_type": "code",
   "execution_count": 19,
   "metadata": {},
   "outputs": [],
   "source": [
    "# split train and test features and target\n",
    "train_X, train_y = train_df.loc[:, 1:64], train_df[65]\n",
    "test_X, test_y = test_df.loc[:, 1:64], test_df[65]"
   ]
  },
  {
   "cell_type": "code",
   "execution_count": 20,
   "metadata": {},
   "outputs": [],
   "source": [
    "# Data Preprocessing: Neural network may have difficulty converging before max iterations allowed if data is not normalized.\n",
    "scaler = StandardScaler()\n",
    "# Fit Standard scalar to the training data\n",
    "scaler.fit(train_X)\n",
    "# Now apply the transformations to the training and test data\n",
    "train_X = scaler.transform(train_X)\n",
    "test_X = scaler.transform(test_X)"
   ]
  },
  {
   "cell_type": "code",
   "execution_count": 21,
   "metadata": {},
   "outputs": [],
   "source": [
    " # select important features with Feature Selection from sklearn library\n",
    "lsvc = LinearSVC(C=0.01, penalty=\"l1\", dual=False).fit(train_X, train_y)\n",
    "model = SelectFromModel(lsvc, prefit=True)"
   ]
  },
  {
   "cell_type": "code",
   "execution_count": 22,
   "metadata": {},
   "outputs": [],
   "source": [
    "# transform features of train and test data to keep only the most important features\n",
    "train_X_new = model.transform(train_X)\n",
    "test_X_new = model.transform(test_X)"
   ]
  },
  {
   "cell_type": "code",
   "execution_count": 23,
   "metadata": {},
   "outputs": [
    {
     "name": "stdout",
     "output_type": "stream",
     "text": [
      "Training data features new shape: (759, 4)\n",
      "Testing data features new shape: (361, 4)\n"
     ]
    }
   ],
   "source": [
    "print(\"Training data features new shape:\", train_X_new.shape)\n",
    "print(\"Testing data features new shape:\", test_X_new.shape)"
   ]
  },
  {
   "cell_type": "markdown",
   "metadata": {},
   "source": [
    "#### Multilayer Perceptron classifier\n",
    " 1. hidden_layer_sizes denotes a tuple, where the ith element represents the number of neurons in the ith hidden layer.\n",
    " 2. max_iter denotes the number of epochs the model will run until convergence.\n",
    " 3. alpha denotes L2 penalty (regularization term) parameter."
   ]
  },
  {
   "cell_type": "markdown",
   "metadata": {},
   "source": [
    "#### Try 1"
   ]
  },
  {
   "cell_type": "code",
   "execution_count": 24,
   "metadata": {},
   "outputs": [
    {
     "data": {
      "text/plain": [
       "MLPClassifier(hidden_layer_sizes=(2, 2, 2), max_iter=300)"
      ]
     },
     "execution_count": 24,
     "metadata": {},
     "output_type": "execute_result"
    }
   ],
   "source": [
    "mlp_classifier = MLPClassifier(hidden_layer_sizes=(2,2,2), max_iter=300, alpha=0.0001)\n",
    "mlp_classifier.fit(train_X_new, train_y)"
   ]
  },
  {
   "cell_type": "code",
   "execution_count": 25,
   "metadata": {},
   "outputs": [],
   "source": [
    "predict_train = mlp_classifier.predict(train_X_new)\n",
    "predict_test = mlp_classifier.predict(test_X_new)"
   ]
  },
  {
   "cell_type": "code",
   "execution_count": 26,
   "metadata": {},
   "outputs": [],
   "source": [
    "train_error = 1 - mlp_classifier.score(train_X_new, train_y)\n",
    "test_error = 1 - mlp_classifier.score(test_X_new, test_y)"
   ]
  },
  {
   "cell_type": "code",
   "execution_count": 27,
   "metadata": {},
   "outputs": [
    {
     "name": "stdout",
     "output_type": "stream",
     "text": [
      "0.5032938076416338\n",
      "0.4986149584487535\n"
     ]
    }
   ],
   "source": [
    "print(train_error)\n",
    "print(test_error)"
   ]
  },
  {
   "cell_type": "markdown",
   "metadata": {},
   "source": [
    "#### Try 2"
   ]
  },
  {
   "cell_type": "code",
   "execution_count": 28,
   "metadata": {},
   "outputs": [
    {
     "name": "stderr",
     "output_type": "stream",
     "text": [
      "C:\\Users\\batul\\AppData\\Roaming\\Python\\Python38\\site-packages\\sklearn\\neural_network\\_multilayer_perceptron.py:582: ConvergenceWarning: Stochastic Optimizer: Maximum iterations (400) reached and the optimization hasn't converged yet.\n",
      "  warnings.warn(\n"
     ]
    },
    {
     "data": {
      "text/plain": [
       "MLPClassifier(hidden_layer_sizes=(2, 2, 2), max_iter=400)"
      ]
     },
     "execution_count": 28,
     "metadata": {},
     "output_type": "execute_result"
    }
   ],
   "source": [
    "mlp_classifier = MLPClassifier(hidden_layer_sizes=(2,2,2), max_iter=400, alpha=0.0001)\n",
    "mlp_classifier.fit(train_X_new, train_y)"
   ]
  },
  {
   "cell_type": "code",
   "execution_count": 29,
   "metadata": {},
   "outputs": [],
   "source": [
    "predict_train = mlp_classifier.predict(train_X_new)\n",
    "predict_test = mlp_classifier.predict(test_X_new)"
   ]
  },
  {
   "cell_type": "code",
   "execution_count": 30,
   "metadata": {},
   "outputs": [],
   "source": [
    "train_error = 1 - mlp_classifier.score(train_X_new, train_y)\n",
    "test_error = 1 - mlp_classifier.score(test_X_new, test_y)"
   ]
  },
  {
   "cell_type": "code",
   "execution_count": 31,
   "metadata": {},
   "outputs": [
    {
     "name": "stdout",
     "output_type": "stream",
     "text": [
      "0.0\n",
      "0.0027700831024930483\n"
     ]
    }
   ],
   "source": [
    "print(train_error)\n",
    "print(test_error)"
   ]
  },
  {
   "cell_type": "markdown",
   "metadata": {},
   "source": [
    "#### Try 3"
   ]
  },
  {
   "cell_type": "code",
   "execution_count": 32,
   "metadata": {},
   "outputs": [
    {
     "name": "stderr",
     "output_type": "stream",
     "text": [
      "C:\\Users\\batul\\AppData\\Roaming\\Python\\Python38\\site-packages\\sklearn\\neural_network\\_multilayer_perceptron.py:582: ConvergenceWarning: Stochastic Optimizer: Maximum iterations (400) reached and the optimization hasn't converged yet.\n",
      "  warnings.warn(\n"
     ]
    },
    {
     "data": {
      "text/plain": [
       "MLPClassifier(hidden_layer_sizes=(3, 3, 3), max_iter=400)"
      ]
     },
     "execution_count": 32,
     "metadata": {},
     "output_type": "execute_result"
    }
   ],
   "source": [
    "mlp_classifier = MLPClassifier(hidden_layer_sizes=(3,3,3), max_iter=400, alpha=0.0001)\n",
    "mlp_classifier.fit(train_X_new, train_y)"
   ]
  },
  {
   "cell_type": "code",
   "execution_count": 33,
   "metadata": {},
   "outputs": [],
   "source": [
    "predict_train = mlp_classifier.predict(train_X_new)\n",
    "predict_test = mlp_classifier.predict(test_X_new)"
   ]
  },
  {
   "cell_type": "code",
   "execution_count": 34,
   "metadata": {},
   "outputs": [],
   "source": [
    "train_error = 1 - mlp_classifier.score(train_X_new, train_y)\n",
    "test_error = 1 - mlp_classifier.score(test_X_new, test_y)"
   ]
  },
  {
   "cell_type": "code",
   "execution_count": 35,
   "metadata": {},
   "outputs": [
    {
     "name": "stdout",
     "output_type": "stream",
     "text": [
      "0.0\n",
      "0.0\n"
     ]
    }
   ],
   "source": [
    "print(train_error)\n",
    "print(test_error)"
   ]
  },
  {
   "cell_type": "markdown",
   "metadata": {},
   "source": [
    "#### Try 4"
   ]
  },
  {
   "cell_type": "code",
   "execution_count": 36,
   "metadata": {},
   "outputs": [
    {
     "data": {
      "text/plain": [
       "MLPClassifier(alpha=0.001, hidden_layer_sizes=(4, 4, 4), max_iter=400)"
      ]
     },
     "execution_count": 36,
     "metadata": {},
     "output_type": "execute_result"
    }
   ],
   "source": [
    "mlp_classifier = MLPClassifier(hidden_layer_sizes=(4,4,4), max_iter=400, alpha=0.001)\n",
    "mlp_classifier.fit(train_X_new, train_y)"
   ]
  },
  {
   "cell_type": "code",
   "execution_count": 37,
   "metadata": {},
   "outputs": [],
   "source": [
    "predict_train = mlp_classifier.predict(train_X_new)\n",
    "predict_test = mlp_classifier.predict(test_X_new)"
   ]
  },
  {
   "cell_type": "code",
   "execution_count": 38,
   "metadata": {},
   "outputs": [],
   "source": [
    "train_error = 1 - mlp_classifier.score(train_X_new, train_y)\n",
    "test_error = 1 - mlp_classifier.score(test_X_new, test_y)"
   ]
  },
  {
   "cell_type": "code",
   "execution_count": 39,
   "metadata": {},
   "outputs": [
    {
     "name": "stdout",
     "output_type": "stream",
     "text": [
      "Train error: 0.0\n",
      "Test error: 0.0\n"
     ]
    }
   ],
   "source": [
    "print(\"Train error:\", train_error)\n",
    "print(\"Test error:\", test_error)"
   ]
  },
  {
   "cell_type": "markdown",
   "metadata": {},
   "source": [
    "Hence with a sklearn neural network, we observe that we have a test error 0 with only 4 important features when we preprocess the data by normalizing with StandardScalar in the sklearn preprocessing library. We used 4 hidden layer neural network with maximum iterations = 400 and L2 regularization parameter alpha = 0.0001 and the model converged and training and test error becomes 0.0 "
   ]
  }
 ],
 "metadata": {
  "kernelspec": {
   "display_name": "Python 3",
   "language": "python",
   "name": "python3"
  },
  "language_info": {
   "codemirror_mode": {
    "name": "ipython",
    "version": 3
   },
   "file_extension": ".py",
   "mimetype": "text/x-python",
   "name": "python",
   "nbconvert_exporter": "python",
   "pygments_lexer": "ipython3",
   "version": "3.8.1"
  }
 },
 "nbformat": 4,
 "nbformat_minor": 4
}
